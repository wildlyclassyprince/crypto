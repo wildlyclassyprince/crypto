{
 "cells": [
  {
   "cell_type": "markdown",
   "metadata": {},
   "source": [
    "## Proof of Work vs. Proof of Stake\n",
    "\n",
    "### Blockchain\n",
    "\n",
    "A blockchain is a distributed, digital ledger in which transactions made are recorded chronologically and publicly.\n",
    "\n",
    "In more general terms, it's a public database where new data are stored in a container called a block and are added to an immutable chain (hence blockchain) with data added in the past. In the case of Bitcoin and cryptocurrencies, these data are groups of transactions. However, the data can be of any type.\n",
    "\n",
    "In a blockchain, each block is stored with a timestamp and, optionally, an index. To help ensure integrity throughout the blockchain, each block has a self-identifying hash. This hash is a cryptographic hash of the block's index, timestamp, payload (or data) and the hash of the previous block's hash. The payload quite literally be anything.\n",
    "\n",
    "Cryptoassets have a mechanism that verifies the validity of information being added to the ledger. This gurantees consensus within the blockchain network by ensuring that the next block being added represents the most current transactions on the network, eliminating double spending and invalid data entries in the blockchain.\n",
    "\n",
    "In addition to solving [double spending problem](https://en.wikipedia.org/wiki/Double-spending) and denying invalid data entries, consensus mechanisms keep the network intact through constant [forking](https://en.wikipedia.org/wiki/Fork_(software_development)).\n",
    "\n",
    "### Proof-of-Work (PoW)\n",
    "\n",
    "A `Proof-of-Work` algorithm is essentially an algorithm that generates an item that is difficult to create but easy to verify. The item is called the ___proof___ and, as it sounds, it is proof that a **computer** performed a certain amount of work.\n",
    "\n",
    "The concept was invented by [Cynthia Dwork](https://en.wikipedia.org/wiki/Cynthis-Dwork) and [Moni Naor](https://en.wikipedia.org/wiki/Moni-naor) in a article in 1993. One of the earliest examples of PoW was used to give value to a currency in the shell money of the Solomon Islands. Essentially, PoW is an economic measure that deters denial of service attacks amongst other service abuses on a network by making it _obstructively uproductive_ for the spammer without preventing legitimate users from sending their messages. That is to say, a genuine user should not encounter any difficulties when using the network but a user with the intent of sending spam would have to expend a considerable amount of computing power to send out many emails at once.\n",
    "\n",
    "There are two classes of PoW protocols.\n",
    "\n",
    "#### Challenge-response\n",
    "\n",
    "#### Solution-verification\n",
    "\n",
    "### Proof-of-Stake (PoS)"
   ]
  }
 ],
 "metadata": {
  "kernelspec": {
   "display_name": "Python 3",
   "language": "python",
   "name": "python3"
  },
  "language_info": {
   "codemirror_mode": {
    "name": "ipython",
    "version": 3
   },
   "file_extension": ".py",
   "mimetype": "text/x-python",
   "name": "python",
   "nbconvert_exporter": "python",
   "pygments_lexer": "ipython3",
   "version": "3.6.5"
  }
 },
 "nbformat": 4,
 "nbformat_minor": 2
}
