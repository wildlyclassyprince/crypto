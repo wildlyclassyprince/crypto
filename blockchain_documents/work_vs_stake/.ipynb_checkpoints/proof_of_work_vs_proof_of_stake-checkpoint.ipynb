{
 "cells": [
  {
   "cell_type": "markdown",
   "metadata": {},
   "source": [
    "## Proof of Work vs. Proof of Stake\n",
    "\n",
    "### Blockchain\n",
    "\n",
    "A blockchain is a distributed, digital ledger in which transactions made are recorded chronologically and publicly.\n",
    "\n",
    "In more general terms, it's a public database where new data are stored in a container called a block and are added to an immutable chain (hence blockchain) with data added in the past. In the case of Bitcoin and cryptocurrencies, these data are groups of transactions. However, the data can be of any type.\n",
    "\n",
    "In a blockchain, each block is stored with a timestamp and, optionally, an index. To help ensure integrity throughout the blockchain, each block has a self-identifying hash. This hash is a cryptographic hash of the block's index, timestamp, payload (or data) and the hash of the previous block's hash. The payload quite literally be anything.\n",
    "\n",
    "Cryptoassets have a mechanism that verifies the validity of information being added to the ledger. This gurantees consensus within the blockchain network by ensuring that the next block being added represents the most current transactions on the network, eliminating double spending and invalid data entries in the blockchain.\n",
    "\n",
    "In addition to solving [double spending problem](https://en.wikipedia.org/wiki/Double-spending) and denying invalid data entries, consensus mechanisms keep the network intact through constant [forking](https://en.wikipedia.org/wiki/Fork_(software_development)).\n",
    "\n",
    "***\n",
    "\n",
    "### Proof-of-Work (PoW)\n",
    "\n",
    "A `Proof-of-Work` algorithm is essentially an algorithm that generates an item that is difficult to create but easy to verify. The item is called the ___proof___ and, as it sounds, it is proof that a **computer** performed a certain amount of work.\n",
    "\n",
    "The concept was invented by [Cynthia Dwork](https://en.wikipedia.org/wiki/Cynthis-Dwork) and [Moni Naor](https://en.wikipedia.org/wiki/Moni-naor) in a article in 1993. One of the earliest examples of PoW was used to give value to a currency in the shell money of the Solomon Islands. Essentially, PoW is an economic measure that deters denial of service attacks amongst other service abuses on a network by making it _obstructively uproductive_ for the spammer without preventing legitimate users from sending their messages. That is to say, a genuine user should not encounter any difficulties when using the network but a user with the intent of sending spam would have to expend a considerable amount of computing power to send out many emails at once.\n",
    "\n",
    "There are two classes of PoW protocols.\n",
    "\n",
    "#### 1. Challenge-response\n",
    "\n",
    "The challenge-response protocol assumes a direct interactive link between the service requester (the client) and the service provider (the server). The following steps outline how this link works:\n",
    "\n",
    ">- The client requests for a service from the server.\n",
    ">- The server chooses a challenge for the client. The server can choose an item (instantaneously) in a set with a property.\n",
    ">- The client then finds the relevant response in the set and sends it to the server.\n",
    ">- The server receives the response and verifies it before granting the client access.\n",
    "\n",
    "The difficulty of the challenge can be adjusted based on the load being experienced by the server.\n",
    "\n",
    "#### 2. Solution-verification\n",
    "\n",
    "On the other hand, solution-verification protocols do not assume a direct interactive link between the client and the server. This results in interesting properties possessed by the problem:\n",
    "\n",
    "    1. _the problem must be self-imposed before a solution is sought by the requester_\n",
    "    2. _the server must check both the problem choice and the found solution_\n",
    "\n",
    "The majority of such schemes are unbounded probabilistic iterative procedures.\n",
    "\n",
    ">- The sender computes the problem and solves it.\n",
    ">- The problem is then sent to the receiver which verifies it.\n",
    "\n",
    "\n",
    "Bitcoin is a PoW cryptocurrency that is based on the [Hashcash](https://en.wikipedia.org/wiki/Hashcash) PoW. Double-spending protection in Bitcoin is provided by _a decentralized P2P protocol_ for tracking transfers of coins, rather than the hardware trusted computing function used by RPoW (Reusable Proof-of-Work). Bitcoin has better trustworthiness because it is protected by computation and mined using the Hashcash PoW function by individual miners and verified by the decentralized nodes in the P2P Bitcoin network.\n",
    "\n",
    "The difficulty is periodically adjusted to keep the block time around a target time.\n",
    "\n",
    "***\n",
    "\n",
    "### Proof-of-Stake (PoS)"
   ]
  }
 ],
 "metadata": {
  "kernelspec": {
   "display_name": "Python 3",
   "language": "python",
   "name": "python3"
  },
  "language_info": {
   "codemirror_mode": {
    "name": "ipython",
    "version": 3
   },
   "file_extension": ".py",
   "mimetype": "text/x-python",
   "name": "python",
   "nbconvert_exporter": "python",
   "pygments_lexer": "ipython3",
   "version": "3.6.5"
  }
 },
 "nbformat": 4,
 "nbformat_minor": 2
}
