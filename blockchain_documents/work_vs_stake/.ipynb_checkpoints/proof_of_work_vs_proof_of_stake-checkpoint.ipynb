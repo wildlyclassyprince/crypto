{
 "cells": [
  {
   "cell_type": "markdown",
   "metadata": {},
   "source": [
    "## Proof of Work vs. Proof of Stake\n",
    "\n",
    "#### Blockchain\n",
    "\n",
    "A blockchain is a distributed, digital ledger in which transactions made are recorded chronologically and publicly.\n",
    "\n",
    "In more general terms, it's a public database where new data are stored in a container called a block and are added to an immutable chain (hence blockchain) with data added in the past. In the case of Bitcoin and cryptocurrencies, these data are groups of transactions. However, the data can be of any type.\n",
    "\n",
    "In a blockchain, each block is stored with a timestamp and, optionally, an index. To help ensure integrity throughout the blockchain, each block has a self-identifying hash. This hash is a cryptographic hash of the block's index, timestamp, payload (or data) and the hash of the previous block's hash. The payload quite literally be anything.\n",
    "\n",
    "Blockchains have mechanisms that gurantee consensus within the whole block\n",
    "\n",
    "#### Proof-of-Work\n",
    "\n",
    "A `Proof-of-Work` algorithm is essentially an algorithm that generates an item that is difficult to create but easy to verify. The item is called the ___proof___ and, as it sounds, it is proof that a computer performed a certain amount of work."
   ]
  }
 ],
 "metadata": {
  "kernelspec": {
   "display_name": "Python 3",
   "language": "python",
   "name": "python3"
  },
  "language_info": {
   "codemirror_mode": {
    "name": "ipython",
    "version": 3
   },
   "file_extension": ".py",
   "mimetype": "text/x-python",
   "name": "python",
   "nbconvert_exporter": "python",
   "pygments_lexer": "ipython3",
   "version": "3.6.5"
  }
 },
 "nbformat": 4,
 "nbformat_minor": 2
}
