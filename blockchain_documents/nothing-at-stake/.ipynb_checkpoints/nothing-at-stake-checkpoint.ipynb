{
 "cells": [
  {
   "cell_type": "markdown",
   "metadata": {},
   "source": [
    "# The \"Nothing-at-Stake\" Problem\n",
    "\n",
    "I was recently thinking about the hype surrounding the blockchain. I became skeptical about what it actually is and how it works -- for me, technology is a tool that society can use to improve its environment or make better use resources. It is a means to an end not an end in and of itself. \n",
    "\n",
    "With that in mind I decided to investigate further and discovered a few informative articles and several that were quite enlightening. Apparently blockchain technology is not the only one of its kind that can solve the problems that it intends on solving.\n",
    "\n",
    "### Types of Protocols\n",
    "\n",
    "A common problem that many in the technology circles may have heard of is the ***double-spending problem***. The BitCoin blockchain aims at solving this problem with it's **Proof-of-Work** (PoW) protocol -- this is a method of verifying that a machine has accomplished a certain task and is intended to be computationally intensive with the aim of deterring malicious behaviour. When reference is made to *mining BitCoin*, essentially this means renting out computer power to assist in the derivation of a solution to a complex crytographic procedure (read as mathematical equation) with requires a lot of computational power and energy.\n",
    "\n",
    "There is another alternative protocol that leans on the weaknesses of PoW, primarily the computational burden, called **Proof-of-Stake** (PoS). Ethereum is a prime example of a technology that makes use of this protocol. PoS basically verifies which node will create the next block, or the order of transactional records, by randomly selecting a candidate based on how much crypto the node has, i.e., the stake. Various components can be added to this protocol to make it more robust such as considering the age of the crypto. Though it is intended to make PoW seem like a loser, PoS does have its weaknesses. One of which is the **Nothing-at-Stake** problem.\n",
    "\n",
    "### The Problem with PoS\n",
    "\n",
    "While conducting research on this topic, I came upon a thread on [StackExcange](https://ethereum.stackexchange.com/questions/2402/what-exactly-is-the-nothing-at-stake-problem) around this particular problem. The initiator of the conversation asked a question \"*What exactly is the Nothing-at-Stake problem?*\", noting that they understand what it means but are unsure of the security implications.\n",
    "\n",
    "One comment answers the question in simple terms: it means you don't lose anything for behaving badly. Here, behaving badly means an individual could potentially sign each and every fork of the cryptocurrency because 1) it costs you nothing, and 2) it is to your advantage to do so in the event of a fork which would cause a digital good to be replicated (a.k.a., ***double-spending***, sort of).\n",
    "\n",
    "To quote:\n",
    "\n",
    "> However, this algorithm has one important flaw: there is \"nothing at stake\". In the event of a fork, whether the fork is accidental or a malicious attempt to rewrite history and reverse a transaction, the optimal strategy for any miner is to mine on every chain, so that the miner gets their reward no matter which fork wins. Thus, assuming a large number of economically interested miners, an attacker may be able to send a transaction in exchange for some digital good (usually another cryptocurrency), receive the good, then start a fork of the blockchain from one block behind the transaction and send the money to themselves instead, and even with 1% of the total stake the attacker's fork would win because everyone else is mining on both.\n",
    "\n",
    "\n",
    "#### References\n",
    "\n",
    "1. [StackExchange](https://ethereum.stackexchange.com/questions/2402/what-exactly-is-the-nothing-at-stake-problem)\n",
    "\n",
    "2. [Ethereum Wiki Page](https://github.com/ethereum/wiki/wiki/Problems)\n",
    "\n",
    "3. [Ethereum FAQ](https://github.com/ethereum/wiki/wiki/Proof-of-Stake-FAQ)\n",
    "\n",
    "4. [YouTube Video](https://www.youtube.com/watch?v=pzIl3vmEytY)\n",
    "\n",
    "5. [Bitzuma Article: Thress Solutions to the Double Spending Problem](https://bitzuma.com/posts/three-solutions-to-the-double-spending-problem/)"
   ]
  }
 ],
 "metadata": {
  "kernelspec": {
   "display_name": "Python 3",
   "language": "python",
   "name": "python3"
  },
  "language_info": {
   "codemirror_mode": {
    "name": "ipython",
    "version": 3
   },
   "file_extension": ".py",
   "mimetype": "text/x-python",
   "name": "python",
   "nbconvert_exporter": "python",
   "pygments_lexer": "ipython3",
   "version": "3.7.0"
  },
  "toc": {
   "base_numbering": 1,
   "nav_menu": {},
   "number_sections": false,
   "sideBar": false,
   "skip_h1_title": false,
   "title_cell": "Table of Contents",
   "title_sidebar": "Contents",
   "toc_cell": false,
   "toc_position": {},
   "toc_section_display": false,
   "toc_window_display": false
  }
 },
 "nbformat": 4,
 "nbformat_minor": 2
}
