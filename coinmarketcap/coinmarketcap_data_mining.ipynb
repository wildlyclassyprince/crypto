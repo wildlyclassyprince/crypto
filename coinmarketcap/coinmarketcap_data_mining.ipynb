{
 "cells": [
  {
   "cell_type": "markdown",
   "metadata": {},
   "source": [
    "# CoinMarketCap: Data Mining\n",
    "\n",
    "We will download data from **CryptoCurrency Market Capitalization**, and filter for `Ethereum` data with a Market Cap.\n",
    "\n",
    "Data will be accessed from [https://coinmarketcap.com/assets/views/all](https://coinmarketcap.com/assets/views/all)."
   ]
  },
  {
   "cell_type": "code",
   "execution_count": 2,
   "metadata": {},
   "outputs": [],
   "source": [
    "# The usual suspects ...\n",
    "import pandas as pd\n",
    "import tabulate\n",
    "\n",
    "# And their accomplices ...\n",
    "from datetime import datetime"
   ]
  },
  {
   "cell_type": "code",
   "execution_count": 7,
   "metadata": {},
   "outputs": [
    {
     "data": {
      "text/plain": [
       "Index(['#', 'Name', 'Platform', 'Market Cap', 'Price', 'Circulating Supply',\n",
       "       'Volume (24h)', '% 1h', '% 24h', '% 7d', 'Unnamed: 10'],\n",
       "      dtype='object')"
      ]
     },
     "execution_count": 7,
     "metadata": {},
     "output_type": "execute_result"
    }
   ],
   "source": [
    "# The url:\n",
    "url = 'https://coinmarketcap.com/tokens/views/all'\n",
    "\n",
    "# The dataframe (shows first table on page):\n",
    "df = pd.read_html(url, attrs={'id': 'assets-all'})[0]\n",
    "# Column list\n",
    "df.columns"
   ]
  },
  {
   "cell_type": "code",
   "execution_count": 8,
   "metadata": {},
   "outputs": [],
   "source": [
    "# New column names:\n",
    "df.columns = ['#', 'Name', 'Platform', 'MarketCap',\n",
    "              'Price', 'CirculatingSupply', 'VolumeDay',\n",
    "              'pctHour', 'pctDay', 'pctWeek', 'NewCol']\n",
    "\n",
    "# Build an upper case name column so we can sort on it more easily\n",
    "df['NameUpper'] = map(lambda x: x.upper(), df['Name'])"
   ]
  },
  {
   "cell_type": "code",
   "execution_count": 9,
   "metadata": {},
   "outputs": [],
   "source": [
    "# Cleaning numeric data:\n",
    "df['Price'] = df['Price'].str.replace('$', '')\n",
    "df['MarketCap'] = df['MarketCap'].str.replace('$', '')\n",
    "df['MarketCap'] = df['MarketCap'].str.replace(',', '')\n",
    "df['VolumeDay'] = df['VolumeDay'].str.replace('$', '')\n",
    "df['VolumeDay'] = df['VolumeDay'].str.replace(',', '')\n",
    "df['volumeDay'] = df['VolumeDay'].str.replace('Low Vol', '0')\n",
    "df['pctHour'] = df['pctHour'].str.replace('%', '')\n",
    "df['pctDay'] = df['pctDay'].str.replace('%', '')\n",
    "df['pctWeek'] = df['pctWeek'].str.replace('%', '')"
   ]
  },
  {
   "cell_type": "code",
   "execution_count": null,
   "metadata": {},
   "outputs": [],
   "source": []
  }
 ],
 "metadata": {
  "kernelspec": {
   "display_name": "Python 3",
   "language": "python",
   "name": "python3"
  },
  "language_info": {
   "codemirror_mode": {
    "name": "ipython",
    "version": 3
   },
   "file_extension": ".py",
   "mimetype": "text/x-python",
   "name": "python",
   "nbconvert_exporter": "python",
   "pygments_lexer": "ipython3",
   "version": "3.6.5"
  }
 },
 "nbformat": 4,
 "nbformat_minor": 2
}
