{
 "cells": [
  {
   "cell_type": "markdown",
   "metadata": {},
   "source": [
    "# CoinMarketCap: Data Mining\n",
    "\n",
    "We will download data from **CryptoCurrency Market Capitalization**, and filter for `Ethereum` data with a Market Cap.\n",
    "\n",
    "Data will be accessed from [https://coinmarketcap.com/tokens/views/all](https://coinmarketcap.com/tokens/views/all)."
   ]
  },
  {
   "cell_type": "code",
   "execution_count": 1,
   "metadata": {},
   "outputs": [],
   "source": [
    "# The usual suspects ...\n",
    "import pandas as pd\n",
    "import tabulate\n",
    "\n",
    "# And their accomplices ...\n",
    "from datetime import datetime"
   ]
  },
  {
   "cell_type": "code",
   "execution_count": 2,
   "metadata": {},
   "outputs": [],
   "source": [
    "# The url:\n",
    "url = 'https://coinmarketcap.com/tokens/views/all'\n",
    "\n",
    "# The dataframe (shows first table on page):\n",
    "df = pd.read_html(url, attrs={'id': 'assets-all'})[0]"
   ]
  },
  {
   "cell_type": "code",
   "execution_count": 3,
   "metadata": {},
   "outputs": [],
   "source": [
    "# New column names:\n",
    "df.columns = ['#', 'Name', 'Platform', 'MarketCap',\n",
    "              'Price', 'CirculatingSupply', 'VolumeDay',\n",
    "              'pctHour', 'pctDay', 'pctWeek', 'NewCol']\n",
    "\n",
    "# Dropping the new column\n",
    "df = df.drop('NewCol', axis=1)\n",
    "\n",
    "# Build an upper case name column so we can sort on it more easily\n",
    "#df['NameUpper'] = map(lambda x: x.upper(), df['Name'])"
   ]
  },
  {
   "cell_type": "code",
   "execution_count": 4,
   "metadata": {},
   "outputs": [],
   "source": [
    "# Cleaning numeric data:\n",
    "df['Name'] = df['Name'].apply(lambda x: x.upper())\n",
    "df['Price'] = df['Price'].str.replace('$', '')\n",
    "df['MarketCap'] = df['MarketCap'].str.replace('$', '')\n",
    "df['MarketCap'] = df['MarketCap'].str.replace(',', '')\n",
    "df['VolumeDay'] = df['VolumeDay'].str.replace('$', '')\n",
    "df['VolumeDay'] = df['VolumeDay'].str.replace(',', '')\n",
    "df['VolumeDay'] = df['VolumeDay'].str.replace('Low Vol', '0')\n",
    "df['pctHour'] = df['pctHour'].str.replace('%', '')\n",
    "df['pctDay'] = df['pctDay'].str.replace('%', '')\n",
    "df['pctWeek'] = df['pctWeek'].str.replace('%', '')"
   ]
  },
  {
   "cell_type": "code",
   "execution_count": 5,
   "metadata": {},
   "outputs": [],
   "source": [
    "# Filter for rows only containing Ethereum and a MarketCap value\n",
    "df = df.loc[(df['Platform'] == 'Ethereum') & (df['MarketCap'] != '?')]"
   ]
  },
  {
   "cell_type": "code",
   "execution_count": 6,
   "metadata": {},
   "outputs": [],
   "source": [
    "# Convert numeric columns to numeric type\n",
    "def coerce_df_columns_to_numeric(df, column_list):\n",
    "    df[column_list] = df[column_list].apply(pd.to_numeric, errors='coerce')\n",
    "    \n",
    "coerce_df_columns_to_numeric(df, ['MarketCap', 'Price', 'CirculatingSupply', \n",
    "                                  'VolumeDay', 'pctHour', 'pctDay', 'pctWeek'])"
   ]
  },
  {
   "cell_type": "markdown",
   "metadata": {},
   "source": [
    "#### Dataframe Sorting Functions:"
   ]
  },
  {
   "cell_type": "code",
   "execution_count": 7,
   "metadata": {},
   "outputs": [],
   "source": [
    "# To sort dataframe values:\n",
    "def sort_dataframe(df, col, ascending=False):\n",
    "    '''Returns sorted dataframe values.'''\n",
    "    return df.sort_values([col], ascending=ascending)\n",
    "\n",
    "# To sort names:\n",
    "def sort_name(df):\n",
    "    '''Returns sorted dataframe value names.'''\n",
    "    return sort_dataframe(df, 'Name', True).iloc[:, [1, 3, 5, 6]].head()\n",
    "\n",
    "# To sort marketcap values:\n",
    "def sort_marketcap(df):\n",
    "    '''Returns sorted MarketCap values.'''\n",
    "    return sort_dataframe(df, 'MarketCap', False).iloc[:, [1, 3]].head()\n",
    "\n",
    "# To sort the price:\n",
    "def sort_price(df):\n",
    "    '''Returns sorted price values.'''\n",
    "    return sort_dataframe(df, 'Price', False).iloc[:, [1, 4]].head()\n",
    "\n",
    "# To sort the volume:\n",
    "def sort_volume(df):\n",
    "    '''Returns sorted volume values.'''\n",
    "    return sort_dataframe(df, 'VolumeDay', False).iloc[:, [1, 6]].head()\n",
    "\n",
    "# To sort hourly percentages:\n",
    "def sort_hour(df):\n",
    "    '''Returns sorted hourly percentages.'''\n",
    "    return sort_dataframe(df, 'pctHour', False).iloc[:, [1, 7]].head()\n",
    "\n",
    "# To sort daily percentages:\n",
    "def sort_day(df):\n",
    "    '''Returns sorted daily percentages.'''\n",
    "    return sort_dataframe(df, 'pctDay', False).iloc[:, [1, 8]].head()\n",
    "\n",
    "# To sort weekly percentages:\n",
    "def sort_week(df):\n",
    "    '''Returns sorted weekly percentages.'''\n",
    "    return sort_dataframe(df, 'pctWeek', False).iloc[:, [1, 9]].head()\n",
    "\n",
    "# Printing sorted dataframe in a tabulated format:\n",
    "def print_tabulated(df):\n",
    "    '''Prints sorted dataframe in a tabular format.'''\n",
    "    print(tabulate.tabulate(df, headers='keys', showindex='false', numalign='right'))\n",
    "\n",
    "# Reporting:\n",
    "def report():\n",
    "    print('Title    : ' + 'CryptoAsset Market Capitalizations')\n",
    "    print('         : ' + 'Ethereum with Market Cap')\n",
    "    print('Source   : ' + url)\n",
    "    print('Time     : ' + str(datetime.now().strftime('%Y-%m-%d %H:%M')))\n",
    "    print('')\n",
    "    print('')\n",
    "    print_tabulated(sort_name(df))\n",
    "    print('')\n",
    "    print_tabulated(sort_marketcap(df))\n",
    "    print('')\n",
    "    print_tabulated(sort_price(df))\n",
    "    print('')\n",
    "    print_tabulated(sort_volume(df))\n",
    "    print('')\n",
    "    print_tabulated(sort_hour(df))\n",
    "    print('')\n",
    "    print_tabulated(sort_day(df))\n",
    "    print('')\n",
    "    print_tabulated(sort_week(df))"
   ]
  },
  {
   "cell_type": "code",
   "execution_count": 8,
   "metadata": {},
   "outputs": [
    {
     "name": "stdout",
     "output_type": "stream",
     "text": [
      "Title    : CryptoAsset Market Capitalizations\n",
      "         : Ethereum with Market Cap\n",
      "Source   : https://coinmarketcap.com/tokens/views/all\n",
      "Time     : 2018-08-21 08:52\n",
      "\n",
      "\n",
      "Name               MarketCap    CirculatingSupply    VolumeDay\n",
      "---------------  -----------  -------------------  -----------\n",
      "0XBTC 0XBITCOIN      1326882              2986850       299382\n",
      "1ST FIRSTBLOOD       5849280             85558371       965534\n",
      "1WO 1WORLD           2537595             20686551        79524\n",
      "300 300 TOKEN          85079                  300            0\n",
      "ABT ARCBLOCK        14594424             93399916   5.5405e+06\n",
      "\n",
      "Name                MarketCap\n",
      "----------------  -----------\n",
      "BNB BINANCE COIN    931519133\n",
      "OMG OMISEGO         538803883\n",
      "ZRX 0X              382581377\n",
      "MKR MAKER           288145222\n",
      "ZIL ZILLIQA         271737036\n",
      "\n",
      "Name                    Price\n",
      "--------------------  -------\n",
      "IDXM IDEX MEMBERSHIP  1159.02\n",
      "MKR MAKER              431.21\n",
      "300 300 TOKEN           283.6\n",
      "XIN MIXIN              220.56\n",
      "DGD DIGIXDAO            53.52\n",
      "\n",
      "Name               VolumeDay\n",
      "---------------  -----------\n",
      "BIX BIBOX TOKEN  5.23245e+07\n",
      "TRUE TRUECHAIN    3.8512e+07\n",
      "BTM BYTOM        3.02145e+07\n",
      "OMG OMISEGO      2.58329e+07\n",
      "MITH MITHRIL     2.41206e+07\n",
      "\n",
      "Name              pctHour\n",
      "--------------  ---------\n",
      "FLIXX FLIXXO        84.14\n",
      "SPHTX SOPHIATX      23.22\n",
      "JC JESUS COIN       19.02\n",
      "FNKOS FNKOS         16.91\n",
      "NPX NAPOLEONX       14.27\n",
      "\n",
      "Name               pctDay\n",
      "---------------  --------\n",
      "MBRS EMBERS        171.98\n",
      "EXN EXCHANGEN       97.91\n",
      "FRV FITROVA         85.55\n",
      "B2B B2BX            47.69\n",
      "KNDC KANADECOIN     38.91\n",
      "\n",
      "Name              pctWeek\n",
      "--------------  ---------\n",
      "TTU TATATU         274.39\n",
      "VZT VEZT           200.11\n",
      "OPTI OPTITOKEN     185.51\n",
      "GENE PARKGENE      177.56\n",
      "CCO CCORE          130.95\n"
     ]
    }
   ],
   "source": [
    "# Reporting:\n",
    "report()"
   ]
  }
 ],
 "metadata": {
  "kernelspec": {
   "display_name": "Python 3",
   "language": "python",
   "name": "python3"
  },
  "language_info": {
   "codemirror_mode": {
    "name": "ipython",
    "version": 3
   },
   "file_extension": ".py",
   "mimetype": "text/x-python",
   "name": "python",
   "nbconvert_exporter": "python",
   "pygments_lexer": "ipython3",
   "version": "3.6.5"
  }
 },
 "nbformat": 4,
 "nbformat_minor": 2
}
