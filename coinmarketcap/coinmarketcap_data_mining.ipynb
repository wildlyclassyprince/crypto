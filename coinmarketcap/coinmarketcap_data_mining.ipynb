{
 "cells": [
  {
   "cell_type": "markdown",
   "metadata": {},
   "source": [
    "# CoinMarketCap: Data Mining\n",
    "\n",
    "We will download data from **CryptoCurrency Market Capitalization**, and filter for `Ethereum` data with a Market Cap.\n",
    "\n",
    "Data will be accessed from [https://coinmarketcap.com/tokens/views/all](https://coinmarketcap.com/tokens/views/all)."
   ]
  },
  {
   "cell_type": "code",
   "execution_count": 1,
   "metadata": {},
   "outputs": [],
   "source": [
    "# The usual suspects ...\n",
    "import pandas as pd\n",
    "import tabulate\n",
    "\n",
    "# And their accomplices ...\n",
    "from datetime import datetime"
   ]
  },
  {
   "cell_type": "code",
   "execution_count": 2,
   "metadata": {},
   "outputs": [],
   "source": [
    "# The url:\n",
    "url = 'https://coinmarketcap.com/tokens/views/all'\n",
    "\n",
    "# The dataframe (shows first table on page):\n",
    "df = pd.read_html(url, attrs={'id': 'assets-all'})[0]"
   ]
  },
  {
   "cell_type": "code",
   "execution_count": 3,
   "metadata": {},
   "outputs": [],
   "source": [
    "# New column names:\n",
    "df.columns = ['#', 'Name', 'Platform', 'MarketCap',\n",
    "              'Price', 'CirculatingSupply', 'VolumeDay',\n",
    "              'pctHour', 'pctDay', 'pctWeek', 'NewCol']\n",
    "\n",
    "# Dropping the new column\n",
    "df = df.drop('NewCol', axis=1)\n",
    "\n",
    "# Build an upper case name column so we can sort on it more easily\n",
    "#df['NameUpper'] = map(lambda x: x.upper(), df['Name'])"
   ]
  },
  {
   "cell_type": "code",
   "execution_count": 4,
   "metadata": {},
   "outputs": [],
   "source": [
    "# Cleaning numeric data:\n",
    "df['Name'] = df['Name'].apply(lambda x: x.upper())\n",
    "df['Price'] = df['Price'].str.replace('$', '')\n",
    "df['MarketCap'] = df['MarketCap'].str.replace('$', '')\n",
    "df['MarketCap'] = df['MarketCap'].str.replace(',', '')\n",
    "df['VolumeDay'] = df['VolumeDay'].str.replace('$', '')\n",
    "df['VolumeDay'] = df['VolumeDay'].str.replace(',', '')\n",
    "df['VolumeDay'] = df['VolumeDay'].str.replace('Low Vol', '0')\n",
    "df['pctHour'] = df['pctHour'].str.replace('%', '')\n",
    "df['pctDay'] = df['pctDay'].str.replace('%', '')\n",
    "df['pctWeek'] = df['pctWeek'].str.replace('%', '')"
   ]
  },
  {
   "cell_type": "code",
   "execution_count": 5,
   "metadata": {},
   "outputs": [],
   "source": [
    "# Filter for rows only containing Ethereum and a MarketCap value\n",
    "df = df.loc[(df['Platform'] == 'Ethereum') & (df['MarketCap'] != '?')]"
   ]
  },
  {
   "cell_type": "code",
   "execution_count": 6,
   "metadata": {},
   "outputs": [],
   "source": [
    "# Convert numeric columns to numeric type\n",
    "def coerce_df_columns_to_numeric(df, column_list):\n",
    "    df[column_list] = df[column_list].apply(pd.to_numeric, errors='coerce')\n",
    "    \n",
    "coerce_df_columns_to_numeric(df, ['MarketCap', 'Price', 'CirculatingSupply', \n",
    "                                  'VolumeDay', 'pctHour', 'pctDay', 'pctWeek'])"
   ]
  },
  {
   "cell_type": "markdown",
   "metadata": {},
   "source": [
    "#### Dataframe Sorting Functions:"
   ]
  },
  {
   "cell_type": "code",
   "execution_count": 7,
   "metadata": {},
   "outputs": [],
   "source": [
    "# To sort dataframe values:\n",
    "def sort_dataframe(df, col, ascending=False):\n",
    "    '''Returns sorted dataframe values.'''\n",
    "    return df.sort_values([col], ascending=ascending)\n",
    "\n",
    "# To sort names:\n",
    "def sort_name(df):\n",
    "    '''Returns sorted dataframe value names.'''\n",
    "    return sort_dataframe(df, 'Name', True).iloc[:, [1, 3, 5, 6]].head()\n",
    "\n",
    "# To sort marketcap values:\n",
    "def sort_marketcap(df):\n",
    "    '''Returns sorted MarketCap values.'''\n",
    "    return sort_dataframe(df, 'MarketCap', False).iloc[:, [1, 3]].head()\n",
    "\n",
    "# To sort the price:\n",
    "def sort_price(df):\n",
    "    '''Returns sorted price values.'''\n",
    "    return sort_dataframe(df, 'Price', False).iloc[:, [1, 4]].head()\n",
    "\n",
    "# To sort the volume:\n",
    "def sort_volume(df):\n",
    "    '''Returns sorted volume values.'''\n",
    "    return sort_dataframe(df, 'VolumeDay', False).iloc[:, [1, 6]].head()\n",
    "\n",
    "# To sort hourly percentages:\n",
    "def sort_hour(df):\n",
    "    '''Returns sorted hourly percentages.'''\n",
    "    return sort_dataframe(df, 'pctHour', False).iloc[:, [1, 7]].head()\n",
    "\n",
    "# To sort daily percentages:\n",
    "def sort_day(df):\n",
    "    '''Returns sorted daily percentages.'''\n",
    "    return sort_dataframe(df, 'pctDay', False).iloc[:, [1, 8]].head()\n",
    "\n",
    "# To sort weekly percentages:\n",
    "def sort_week(df):\n",
    "    '''Returns sorted weekly percentages.'''\n",
    "    return sort_dataframe(df, 'pctWeek', False).iloc[:, [1, 9]].head()\n",
    "\n",
    "# Printing sorted dataframe in a tabulated format:\n",
    "def print_tabulated(df):\n",
    "    '''Prints sorted dataframe in a tabular format.'''\n",
    "    print(tabulate.tabulate(df, headers='keys', showindex='false', numalign='right'))\n",
    "\n",
    "# Reporting:\n",
    "def report():\n",
    "    print('Title    : ' + 'CryptoAsset Market Capitalizations')\n",
    "    print('Subtitle : ' + 'Ethereum with Market Cap')\n",
    "    print('Source   : ' + url)\n",
    "    print('Time     : ' + str(datetime.now().strftime('%Y-%m-%d %H:%M')))\n",
    "    print('')\n",
    "    print('')\n",
    "    print_tabulated(sort_name(df))\n",
    "    print('')\n",
    "    print_tabulated(sort_marketcap(df))\n",
    "    print('')\n",
    "    print_tabulated(sort_price(df))\n",
    "    print('')\n",
    "    print_tabulated(sort_volume(df))\n",
    "    print('')\n",
    "    print_tabulated(sort_hour(df))\n",
    "    print('')\n",
    "    print_tabulated(sort_day(df))\n",
    "    print('')\n",
    "    print_tabulated(sort_week(df))"
   ]
  },
  {
   "cell_type": "code",
   "execution_count": 8,
   "metadata": {},
   "outputs": [
    {
     "name": "stdout",
     "output_type": "stream",
     "text": [
      "Title    : CryptoAsset Market Capitalizations\n",
      "Subtitle : Ethereum with Market Cap\n",
      "Source   : https://coinmarketcap.com/tokens/views/all\n",
      "Time     : 2019-01-15 18:04\n",
      "\n",
      "\n",
      "Name               MarketCap    CirculatingSupply    VolumeDay\n",
      "---------------  -----------  -------------------  -----------\n",
      "0XBTC 0XBITCOIN       667223              3765150       460726\n",
      "1ST FIRSTBLOOD       2797513             85558371            0\n",
      "1WO 1WORLD            559348             20686551        26914\n",
      "300 300 TOKEN          60817                  300          nan\n",
      "AAA ABULABA             5138             15090818            0\n",
      "\n",
      "Name                MarketCap\n",
      "----------------  -----------\n",
      "BNB BINANCE COIN    778672582\n",
      "USDC USD COIN       354362409\n",
      "MKR MAKER           336922618\n",
      "TUSD TRUEUSD        208489317\n",
      "LINK CHAINLINK      182115578\n",
      "\n",
      "Name                    Price\n",
      "--------------------  -------\n",
      "MKR MAKER              462.66\n",
      "IDXM IDEX MEMBERSHIP   371.89\n",
      "300 300 TOKEN          202.72\n",
      "XIN MIXIN               95.97\n",
      "DGX DIGIX GOLD TOKEN    44.69\n",
      "\n",
      "Name                    VolumeDay\n",
      "--------------------  -----------\n",
      "GUSD GEMINI DOLLAR    1.53022e+08\n",
      "PAX PAXOS STANDAR...  8.84967e+07\n",
      "TUSD TRUEUSD          7.19247e+07\n",
      "AE AETERNITY          6.41229e+07\n",
      "DLT AGRELLO           4.87692e+07\n",
      "\n",
      "Name                    pctHour\n",
      "--------------------  ---------\n",
      "SGN SIGNALS NETWORK         123\n",
      "VIT VICE INDUSTRY...      92.93\n",
      "IFOOD IFOODS CHAIN         84.9\n",
      "NER NERVES                66.38\n",
      "TIE TIES.DB               33.17\n",
      "\n",
      "Name                    pctDay\n",
      "--------------------  --------\n",
      "MODX MODEL-X-COIN       237.13\n",
      "IBTC IBTC               182.68\n",
      "BLN BOLENUM             169.91\n",
      "ROBET ROBET             157.04\n",
      "SAT SOCIAL ACTIVI...    153.45\n",
      "\n",
      "Name                   pctWeek\n",
      "-------------------  ---------\n",
      "NOKU NOKU               416.21\n",
      "SIM SIMMITRI            363.62\n",
      "C8 CARBONEUM [C8...     252.55\n",
      "BLN BOLENUM             236.81\n",
      "IBTC IBTC               184.06\n"
     ]
    }
   ],
   "source": [
    "# Reporting:\n",
    "report()"
   ]
  },
  {
   "cell_type": "code",
   "execution_count": null,
   "metadata": {},
   "outputs": [],
   "source": []
  }
 ],
 "metadata": {
  "kernelspec": {
   "display_name": "Python 3",
   "language": "python",
   "name": "python3"
  },
  "language_info": {
   "codemirror_mode": {
    "name": "ipython",
    "version": 3
   },
   "file_extension": ".py",
   "mimetype": "text/x-python",
   "name": "python",
   "nbconvert_exporter": "python",
   "pygments_lexer": "ipython3",
   "version": "3.7.0"
  }
 },
 "nbformat": 4,
 "nbformat_minor": 2
}
