{
 "cells": [
  {
   "cell_type": "markdown",
   "metadata": {},
   "source": [
    "# CoinMarketCap: Data Mining\n",
    "\n",
    "We will download data from **CryptoCurrency Market Capitalization**, and filter for `Ethereum` data with a Market Cap.\n",
    "\n",
    "Data will be accessed from [https://coinmarketcap.com/assets/views/all](https://coinmarketcap.com/assets/views/all)."
   ]
  },
  {
   "cell_type": "code",
   "execution_count": 1,
   "metadata": {},
   "outputs": [],
   "source": [
    "# The usual suspects ...\n",
    "import pandas as pd\n",
    "import tabulate\n",
    "\n",
    "# And their accomplices ...\n",
    "from datetime import datetime"
   ]
  },
  {
   "cell_type": "code",
   "execution_count": 2,
   "metadata": {},
   "outputs": [
    {
     "data": {
      "text/plain": [
       "Index(['#', 'Name', 'Platform', 'Market Cap', 'Price', 'Circulating Supply',\n",
       "       'Volume (24h)', '% 1h', '% 24h', '% 7d', 'Unnamed: 10'],\n",
       "      dtype='object')"
      ]
     },
     "execution_count": 2,
     "metadata": {},
     "output_type": "execute_result"
    }
   ],
   "source": [
    "# The url:\n",
    "url = 'https://coinmarketcap.com/tokens/views/all'\n",
    "\n",
    "# The dataframe (shows first table on page):\n",
    "df = pd.read_html(url, attrs={'id': 'assets-all'})[0]\n",
    "# Column list\n",
    "df.columns"
   ]
  },
  {
   "cell_type": "code",
   "execution_count": 3,
   "metadata": {},
   "outputs": [],
   "source": [
    "# New column names:\n",
    "df.columns = ['#', 'Name', 'Platform', 'MarketCap',\n",
    "              'Price', 'CirculatingSupply', 'VolumeDay',\n",
    "              'pctHour', 'pctDay', 'pctWeek', 'NewCol']\n",
    "\n",
    "# Build an upper case name column so we can sort on it more easily\n",
    "df['NameUpper'] = map(lambda x: x.upper(), df['Name'])"
   ]
  },
  {
   "cell_type": "code",
   "execution_count": 4,
   "metadata": {},
   "outputs": [],
   "source": [
    "# Cleaning numeric data:\n",
    "df['Price'] = df['Price'].str.replace('$', '')\n",
    "df['MarketCap'] = df['MarketCap'].str.replace('$', '')\n",
    "df['MarketCap'] = df['MarketCap'].str.replace(',', '')\n",
    "df['VolumeDay'] = df['VolumeDay'].str.replace('$', '')\n",
    "df['VolumeDay'] = df['VolumeDay'].str.replace(',', '')\n",
    "df['VolumeDay'] = df['VolumeDay'].str.replace('Low Vol', '0')\n",
    "df['pctHour'] = df['pctHour'].str.replace('%', '')\n",
    "df['pctDay'] = df['pctDay'].str.replace('%', '')\n",
    "df['pctWeek'] = df['pctWeek'].str.replace('%', '')"
   ]
  },
  {
   "cell_type": "code",
   "execution_count": 5,
   "metadata": {},
   "outputs": [],
   "source": [
    "# Filter for rows only containing Ethereum and a MarketCap value\n",
    "df = df.loc[(df['Platform'] == 'Ethereum') & (df['MarketCap'] != '?')]"
   ]
  },
  {
   "cell_type": "code",
   "execution_count": 6,
   "metadata": {},
   "outputs": [],
   "source": [
    "# Convert numeric columns to numeric type\n",
    "def coerce_df_columns_to_numeric(df, column_list):\n",
    "    df[column_list] = df[column_list].apply(pd.to_numeric, errors='coerce')\n",
    "    \n",
    "coerce_df_columns_to_numeric(df, ['MarketCap', 'Price', 'CirculatingSupply', \n",
    "                                  'VolumeDay', 'pctHour', 'pctDay', 'pctWeek'])"
   ]
  },
  {
   "cell_type": "markdown",
   "metadata": {},
   "source": [
    "#### Dataframe Sorting Functions:"
   ]
  },
  {
   "cell_type": "code",
   "execution_count": 8,
   "metadata": {},
   "outputs": [
    {
     "ename": "SyntaxError",
     "evalue": "unexpected EOF while parsing (<ipython-input-8-bd506e658e97>, line 32)",
     "output_type": "error",
     "traceback": [
      "\u001b[0;36m  File \u001b[0;32m\"<ipython-input-8-bd506e658e97>\"\u001b[0;36m, line \u001b[0;32m32\u001b[0m\n\u001b[0;31m    def sort_day(df):\u001b[0m\n\u001b[0m                     ^\u001b[0m\n\u001b[0;31mSyntaxError\u001b[0m\u001b[0;31m:\u001b[0m unexpected EOF while parsing\n"
     ]
    }
   ],
   "source": [
    "# To sort dataframe values:\n",
    "def sort_dataframe(df, col, ascending=False):\n",
    "    '''Returns sorted dataframe values.'''\n",
    "    return df.sort_values([col], ascending=ascending)\n",
    "\n",
    "# To sort names:\n",
    "def sort_name(df):\n",
    "    '''Returns sorted dataframe value names.'''\n",
    "    return sort_dataframe(df, 'NameUpper', True).ix[:, [1, 3, 5, 6]]\n",
    "\n",
    "# To sort marketcap values:\n",
    "def sort_marketcap(df):\n",
    "    '''Returns sorted MarketCap values.'''\n",
    "    return sort_dataframe(df, 'MarketCap', False).ix[:, [1, 3]]\n",
    "\n",
    "# To sort the price:\n",
    "def sort_price(df):\n",
    "    '''Returns sorted price values.'''\n",
    "    return sort_dataframe(df, 'Price', False).ix[:, [1, 4]]\n",
    "\n",
    "# To sort the volume:\n",
    "def sort_volume(df):\n",
    "    '''Returns sorted volume values.'''\n",
    "    return sort_dataframe(df, 'VolumeDay', False).ix[:, [1, 6]]\n",
    "\n",
    "# To sort hourly percentages:\n",
    "def sort_hour(df):\n",
    "    '''Returns sorted hourly percentages.'''\n",
    "    return sort_dataframe(df, 'pctHour', False).ix[:, [1, 7]]\n",
    "\n",
    "# To sort daily percentages:\n",
    "def sort_day(df):\n",
    "    '''Returns sorted daily percentages.'''\n",
    "    return sort_dataframe(df, 'pctDay', False).ix[:, [1, 8]]\n",
    "\n",
    "# To sort weekly percentages:\n",
    "def sort_week(df):\n",
    "    '''Returns sorted weekly percentages.'''\n",
    "    return sort_dataframe(df, 'pctWeek', False).ix[:, [1, 9]]\n",
    "\n",
    "# Printing sorted dataframe in a tabulated format:\n",
    "def print_tabulated(df):\n",
    "    '''Prints sorted dataframe in a tabular format.'''\n",
    "    print tabulate.tabulate(df, headers='keys', showindex='false', numalign='right')\n",
    "    \n",
    "def report():\n",
    "    print('Title   :')"
   ]
  },
  {
   "cell_type": "code",
   "execution_count": null,
   "metadata": {},
   "outputs": [],
   "source": [
    "''"
   ]
  }
 ],
 "metadata": {
  "kernelspec": {
   "display_name": "Python 3",
   "language": "python",
   "name": "python3"
  },
  "language_info": {
   "codemirror_mode": {
    "name": "ipython",
    "version": 3
   },
   "file_extension": ".py",
   "mimetype": "text/x-python",
   "name": "python",
   "nbconvert_exporter": "python",
   "pygments_lexer": "ipython3",
   "version": "3.6.5"
  }
 },
 "nbformat": 4,
 "nbformat_minor": 2
}
